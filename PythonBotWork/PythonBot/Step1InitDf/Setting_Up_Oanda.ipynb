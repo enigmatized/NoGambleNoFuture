{
 "cells": [
  {
   "cell_type": "code",
   "execution_count": null,
   "metadata": {},
   "outputs": [],
   "source": []
  },
  {
   "cell_type": "code",
   "execution_count": 9,
   "metadata": {},
   "outputs": [],
   "source": [
    "from collections import defaultdict\n",
    "import requests\n",
    "from time import sleep\n",
    "import matplotlib.pyplot as plt\n",
    "import pandas as pd\n",
    "import numpy as np\n",
    "import os\n",
    "from datetime import datetime, timedelta\n",
    "import json\n",
    "from collections import defaultdict\n",
    "import matplotlib.pyplot as plt\n",
    "import pandas as pd\n",
    "import numpy as np\n",
    "import os\n",
    "import re\n",
    "from datetime import datetime, timedelta, time\n",
    "from urllib.error import HTTPError\n",
    "\n",
    "\n",
    "### ALL THESE FUNCIONS ARE RELATED TO THE IniitDF SECTION IN MAIN FUNCTION\n",
    "#THIS Code block is for getting data from the exchange and setting up the first call and others calls\n",
    "\n",
    "#TODO  modify for candle count and grandulatiry\n",
    "#TODO better documentation\n",
    "def getCandles_aka_callToUpdateInfo(currency, \n",
    "                                    count = \"3\", \n",
    "                                    granularity = \"H4\" #TODO add logic to decide M15/M30/H1/H4\n",
    "                                    bearerToken = None, \n",
    "                                    accountNum = None):\n",
    "    if bearerToken == None or accountNum == None : raise ValueError('Calling the APIs without token/account info is a very bad thing, are you really prepared for this?')\n",
    "    try:\n",
    "        r = requests.get('https://api-fxtrade.oanda.com/v3/instruments/'+currency +'/candles?count='+ count +'&price=M&granularity='+ granularity,\n",
    "            headers= { 'Content-Type': 'application/json','Authorization': 'Bearer ' + bearerToken} #Correct this to be read from file\n",
    "            )\n",
    "        r.raise_for_status()\n",
    "        return (r.json(), True)\n",
    "    except HTTPError as http_err:\n",
    "        print(f'HTTP error occurred: {http_err}')\n",
    "        print(http_err.response.text)\n",
    "        return ( {}, False)\n",
    "    except Exception as err:\n",
    "        print(f'Other error occurred in getCandles_aka_callToUpdateInfo: {err}')\n",
    "        return ( {}, False)\n",
    "    print(\"Something went wrong in getCandles_aka_callToUpdateInfo!!!!!!!!!!!!!!!\")\n",
    "    return (\"\", False)"
   ]
  },
  {
   "cell_type": "code",
   "execution_count": 4,
   "metadata": {},
   "outputs": [],
   "source": [
    "\n",
    "def getBearAndAccount():    \n",
    "    with open('../../bearTokenAndAccountInfo.json', 'r') as openfile:\n",
    "        # Reading from json file\n",
    "        oauthInfo = json.load(openfile)\n",
    "    \n",
    "    bearerTokenOanda = oauthInfo[\"bearer\"]\n",
    "    accountNumOanda  = oauthInfo[\"account\"] \n",
    "\n",
    "    return (bearerTokenOanda, accountNumOanda)\n",
    "(bearerTokenOanda, accountNumOanda) = getBearAndAccount()"
   ]
  },
  {
   "cell_type": "code",
   "execution_count": 10,
   "metadata": {},
   "outputs": [],
   "source": [
    "test = getCandles_aka_callToUpdateInfo(\"EUR_USD\", count = \"3\", bearerToken = bearerTokenOanda, accountNum = accountNumOanda)"
   ]
  },
  {
   "cell_type": "code",
   "execution_count": 11,
   "metadata": {},
   "outputs": [
    {
     "data": {
      "text/plain": [
       "({'instrument': 'EUR_USD',\n",
       "  'granularity': 'H4',\n",
       "  'candles': [{'complete': True,\n",
       "    'volume': 19620,\n",
       "    'time': '2023-05-26T09:00:00.000000000Z',\n",
       "    'mid': {'o': '1.07316', 'h': '1.07588', 'l': '1.07256', 'c': '1.07420'}},\n",
       "   {'complete': True,\n",
       "    'volume': 28037,\n",
       "    'time': '2023-05-26T13:00:00.000000000Z',\n",
       "    'mid': {'o': '1.07422', 'h': '1.07506', 'l': '1.07018', 'c': '1.07197'}},\n",
       "   {'complete': True,\n",
       "    'volume': 8051,\n",
       "    'time': '2023-05-26T17:00:00.000000000Z',\n",
       "    'mid': {'o': '1.07198', 'h': '1.07328', 'l': '1.07188', 'c': '1.07252'}}]},\n",
       " True)"
      ]
     },
     "execution_count": 11,
     "metadata": {},
     "output_type": "execute_result"
    }
   ],
   "source": [
    "test"
   ]
  }
 ],
 "metadata": {
  "kernelspec": {
   "display_name": "gmoney",
   "language": "python",
   "name": "python3"
  },
  "language_info": {
   "codemirror_mode": {
    "name": "ipython",
    "version": 3
   },
   "file_extension": ".py",
   "mimetype": "text/x-python",
   "name": "python",
   "nbconvert_exporter": "python",
   "pygments_lexer": "ipython3",
   "version": "3.11.3"
  },
  "orig_nbformat": 4
 },
 "nbformat": 4,
 "nbformat_minor": 2
}

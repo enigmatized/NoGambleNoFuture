{
 "cells": [
  {
   "cell_type": "code",
   "execution_count": 1,
   "metadata": {},
   "outputs": [],
   "source": [
    "from kucoin_futures.client import Trade\n",
    "from collections import defaultdict\n",
    "import requests\n",
    "from time import sleep\n",
    "import matplotlib.pyplot as plt\n",
    "import pandas as pd\n",
    "import numpy as np\n",
    "import os\n",
    "from datetime import datetime, timedelta\n",
    "import json\n",
    "from collections import defaultdict\n",
    "import matplotlib.pyplot as plt\n",
    "import pandas as pd\n",
    "import numpy as np\n",
    "import os\n",
    "import re\n",
    "from datetime import datetime, timedelta, time\n",
    "from inspect import currentframe, getframeinfo"
   ]
  },
  {
   "cell_type": "code",
   "execution_count": 71,
   "metadata": {},
   "outputs": [],
   "source": [
    "def getKucoinAccount():    \n",
    "    with open('../../../../kucoinTokens5.json', 'r') as openfile:\n",
    "        # Reading from json file\n",
    "        oauthInfo = json.load(openfile)\n",
    "    # kucoinApiKey = oauthInfo[\"api_keyi\"]\n",
    "    # kuccoinApiSecret  = oauthInfo[\"api_secret\"]\n",
    "    # kucoinApiPassphrase  = oauthInfo[\"api_passphrase\"] \n",
    "\n",
    "    return oauthInfo\n",
    "secret_info = getKucoinAccount()"
   ]
  },
  {
   "cell_type": "code",
   "execution_count": 72,
   "metadata": {},
   "outputs": [
    {
     "data": {
      "text/plain": [
       "{'apiKeyi': '647224467724fc0001280f01',\n",
       " 'Secret': '93b611f6-049e-4c76-b155-f0746bb3ca0f',\n",
       " 'name': '6503023516',\n",
       " 'passphrase': 'aaaaaaa'}"
      ]
     },
     "execution_count": 72,
     "metadata": {},
     "output_type": "execute_result"
    }
   ],
   "source": [
    "secret_info"
   ]
  },
  {
   "cell_type": "code",
   "execution_count": 73,
   "metadata": {},
   "outputs": [
    {
     "name": "stdout",
     "output_type": "stream",
     "text": [
      "{'apiKeyi': '647224467724fc0001280f01', 'Secret': '93b611f6-049e-4c76-b155-f0746bb3ca0f', 'name': '6503023516', 'passphrase': 'aaaaaaa'}\n"
     ]
    }
   ],
   "source": [
    "\n",
    "client = Trade(key=secret_info[\"apiKeyi\"], secret=secret_info[\"Secret\"], passphrase=secret_info[\"passphrase\"], is_sandbox=True, url='')\n",
    "print(secret_info)\n"
   ]
  },
  {
   "cell_type": "code",
   "execution_count": 74,
   "metadata": {},
   "outputs": [
    {
     "ename": "Exception",
     "evalue": "200-{\"msg\":\"Order price cannot be higher than 28019.292.\",\"code\":\"300011\"}",
     "output_type": "error",
     "traceback": [
      "\u001b[0;31m---------------------------------------------------------------------------\u001b[0m",
      "\u001b[0;31mException\u001b[0m                                 Traceback (most recent call last)",
      "Cell \u001b[0;32mIn[74], line 2\u001b[0m\n\u001b[1;32m      1\u001b[0m \u001b[39m# place a limit buy order\u001b[39;00m\n\u001b[0;32m----> 2\u001b[0m order_id \u001b[39m=\u001b[39m client\u001b[39m.\u001b[39;49mcreate_limit_order(\u001b[39m'\u001b[39;49m\u001b[39mXBTUSDM\u001b[39;49m\u001b[39m'\u001b[39;49m, \u001b[39m'\u001b[39;49m\u001b[39mbuy\u001b[39;49m\u001b[39m'\u001b[39;49m, \u001b[39m'\u001b[39;49m\u001b[39m1\u001b[39;49m\u001b[39m'\u001b[39;49m, \u001b[39m'\u001b[39;49m\u001b[39m30\u001b[39;49m\u001b[39m'\u001b[39;49m, \u001b[39m'\u001b[39;49m\u001b[39m90000\u001b[39;49m\u001b[39m'\u001b[39;49m)\n",
      "File \u001b[0;32m~/anaconda3/envs/gmoney/lib/python3.11/site-packages/kucoin_futures/trade/trade.py:363\u001b[0m, in \u001b[0;36mTradeData.create_limit_order\u001b[0;34m(self, symbol, side, lever, size, price, clientOid, **kwargs)\u001b[0m\n\u001b[1;32m    360\u001b[0m \u001b[39mif\u001b[39;00m kwargs:\n\u001b[1;32m    361\u001b[0m     params\u001b[39m.\u001b[39mupdate(kwargs)\n\u001b[0;32m--> 363\u001b[0m \u001b[39mreturn\u001b[39;00m \u001b[39mself\u001b[39;49m\u001b[39m.\u001b[39;49m_request(\u001b[39m'\u001b[39;49m\u001b[39mPOST\u001b[39;49m\u001b[39m'\u001b[39;49m, \u001b[39m'\u001b[39;49m\u001b[39m/api/v1/orders\u001b[39;49m\u001b[39m'\u001b[39;49m, params\u001b[39m=\u001b[39;49mparams)\n",
      "File \u001b[0;32m~/anaconda3/envs/gmoney/lib/python3.11/site-packages/kucoin_futures/base_request/base_request.py:95\u001b[0m, in \u001b[0;36mKucoinFuturesBaseRestApi._request\u001b[0;34m(self, method, uri, timeout, auth, params)\u001b[0m\n\u001b[1;32m     92\u001b[0m \u001b[39melse\u001b[39;00m:\n\u001b[1;32m     93\u001b[0m     response_data \u001b[39m=\u001b[39m requests\u001b[39m.\u001b[39mrequest(method, url, headers\u001b[39m=\u001b[39mheaders, data\u001b[39m=\u001b[39mdata_json,\n\u001b[1;32m     94\u001b[0m                                      timeout\u001b[39m=\u001b[39mtimeout)\n\u001b[0;32m---> 95\u001b[0m \u001b[39mreturn\u001b[39;00m \u001b[39mself\u001b[39;49m\u001b[39m.\u001b[39;49mcheck_response_data(response_data)\n",
      "File \u001b[0;32m~/anaconda3/envs/gmoney/lib/python3.11/site-packages/kucoin_futures/base_request/base_request.py:112\u001b[0m, in \u001b[0;36mKucoinFuturesBaseRestApi.check_response_data\u001b[0;34m(response_data)\u001b[0m\n\u001b[1;32m    110\u001b[0m                     \u001b[39mreturn\u001b[39;00m data\n\u001b[1;32m    111\u001b[0m             \u001b[39melse\u001b[39;00m:\n\u001b[0;32m--> 112\u001b[0m                 \u001b[39mraise\u001b[39;00m \u001b[39mException\u001b[39;00m(\u001b[39m\"\u001b[39m\u001b[39m{}\u001b[39;00m\u001b[39m-\u001b[39m\u001b[39m{}\u001b[39;00m\u001b[39m\"\u001b[39m\u001b[39m.\u001b[39mformat(response_data\u001b[39m.\u001b[39mstatus_code, response_data\u001b[39m.\u001b[39mtext))\n\u001b[1;32m    113\u001b[0m \u001b[39melse\u001b[39;00m:\n\u001b[1;32m    114\u001b[0m     \u001b[39mraise\u001b[39;00m \u001b[39mException\u001b[39;00m(\u001b[39m\"\u001b[39m\u001b[39m{}\u001b[39;00m\u001b[39m-\u001b[39m\u001b[39m{}\u001b[39;00m\u001b[39m\"\u001b[39m\u001b[39m.\u001b[39mformat(response_data\u001b[39m.\u001b[39mstatus_code, response_data\u001b[39m.\u001b[39mtext))\n",
      "\u001b[0;31mException\u001b[0m: 200-{\"msg\":\"Order price cannot be higher than 28019.292.\",\"code\":\"300011\"}"
     ]
    }
   ],
   "source": [
    "# place a limit buy order\n",
    "order_id = client.create_limit_order('XBTUSDM', 'buy', '1', '30', '90000')"
   ]
  },
  {
   "cell_type": "code",
   "execution_count": 68,
   "metadata": {},
   "outputs": [
    {
     "name": "stdout",
     "output_type": "stream",
     "text": [
      "401\n",
      "{'code': '400004', 'msg': 'Invalid KC-API-PASSPHRASE'}\n"
     ]
    }
   ],
   "source": [
    "import base64\n",
    "import hashlib\n",
    "import hmac\n",
    "\n",
    "import time as timmy\n",
    "\n",
    "api_key = secret_info[\"apiKeyi\"]\n",
    "api_secret = secret_info[\"apiKeyi\"]\n",
    "api_passphrase = \"1234567\"\n",
    "url = 'https://api.kucoin.com/api/v1/fills'\n",
    "now = int( timmy.time() * 1000)\n",
    "# current_time = datetime.now().time()\n",
    "# now = int((current_time.hour * 3600 + current_time.minute * 60 + current_time.second) * 1000)\n",
    "str_to_sign = str(now) + 'GET' + 'api/v1/fills'\n",
    "signature = base64.b64encode(\n",
    "    hmac.new(api_secret.encode('utf-8'), str_to_sign.encode('utf-8'), hashlib.sha256).digest())\n",
    "passphrase = base64.b64encode(hmac.new(api_secret.encode('utf-8'), api_passphrase.encode('utf-8'), hashlib.sha256).digest())\n",
    "headers = {\n",
    "    \"KC-API-SIGN\": signature,\n",
    "    \"KC-API-TIMESTAMP\": str(now),\n",
    "    \"KC-API-KEY\": api_key,\n",
    "    \"KC-API-PASSPHRASE\": passphrase,\n",
    "    \"KC-API-KEY-VERSION\": \"2\"\n",
    "}\n",
    "response = requests.request('get', url, headers=headers)\n",
    "print(response.status_code)\n",
    "print(response.json())\n"
   ]
  },
  {
   "cell_type": "code",
   "execution_count": 63,
   "metadata": {},
   "outputs": [
    {
     "name": "stdout",
     "output_type": "stream",
     "text": [
      "{'apiKeyi': '64721d6e1876cd00018070b5', 'Secret': '7c38b693-0a4a-417e-be60-e281c212d405', 'name': '6503023516', 'passphrase': '1234567'}\n"
     ]
    }
   ],
   "source": [
    "print(secret_info)"
   ]
  }
 ],
 "metadata": {
  "kernelspec": {
   "display_name": "gmoney",
   "language": "python",
   "name": "python3"
  },
  "language_info": {
   "codemirror_mode": {
    "name": "ipython",
    "version": 3
   },
   "file_extension": ".py",
   "mimetype": "text/x-python",
   "name": "python",
   "nbconvert_exporter": "python",
   "pygments_lexer": "ipython3",
   "version": "3.11.3"
  },
  "orig_nbformat": 4
 },
 "nbformat": 4,
 "nbformat_minor": 2
}

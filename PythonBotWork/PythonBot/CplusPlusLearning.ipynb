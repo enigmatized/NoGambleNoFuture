{
 "cells": [
  {
   "cell_type": "code",
   "execution_count": 1,
   "metadata": {
    "vscode": {
     "languageId": "python"
    }
   },
   "outputs": [
    {
     "name": "stdout",
     "output_type": "stream",
     "text": [
      "We can do this"
     ]
    },
    {
     "data": {
      "text/plain": [
       "@0x7f4a75912b60"
      ]
     },
     "execution_count": 1,
     "metadata": {},
     "output_type": "execute_result"
    }
   ],
   "source": [
    "#include  <iostream>\n",
    "#include <iostream>\n",
    "#include <curl/curl.h>\n",
    "\n",
    "std :: cout << \"We can do this\";\n",
    "CURL* curl;\n",
    "CURLcode res;\n",
    "std::string response;\n"
   ]
  },
  {
   "cell_type": "code",
   "execution_count": 4,
   "metadata": {
    "vscode": {
     "languageId": "python"
    }
   },
   "outputs": [
    {
     "name": "stderr",
     "output_type": "stream",
     "text": [
      "IncrementalExecutor::executeFunction: symbol 'curl_global_init' unresolved while linking function '_GLOBAL__sub_I_cling_module_14'!\n",
      "IncrementalExecutor::executeFunction: symbol 'curl_easy_strerror' unresolved while linking function '_GLOBAL__sub_I_cling_module_14'!\n",
      "IncrementalExecutor::executeFunction: symbol 'curl_easy_setopt' unresolved while linking function '_GLOBAL__sub_I_cling_module_14'!\n",
      "IncrementalExecutor::executeFunction: symbol 'curl_easy_cleanup' unresolved while linking function '_GLOBAL__sub_I_cling_module_14'!\n",
      "IncrementalExecutor::executeFunction: symbol 'curl_easy_perform' unresolved while linking function '_GLOBAL__sub_I_cling_module_14'!\n",
      "IncrementalExecutor::executeFunction: symbol 'curl_global_cleanup' unresolved while linking function '_GLOBAL__sub_I_cling_module_14'!\n",
      "IncrementalExecutor::executeFunction: symbol 'curl_easy_init' unresolved while linking function '_GLOBAL__sub_I_cling_module_14'!\n",
      "cURL request failed: "
     ]
    },
    {
     "ename": "",
     "evalue": "",
     "output_type": "error",
     "traceback": [
      "\u001b[1;31mCanceled future for execute_request message before replies were done"
     ]
    },
    {
     "ename": "",
     "evalue": "",
     "output_type": "error",
     "traceback": [
      "\u001b[1;31mThe Kernel crashed while executing code in the the current cell or a previous cell. Please review the code in the cell(s) to identify a possible cause of the failure. Click <a href='https://aka.ms/vscodeJupyterKernelCrash'>here</a> for more info. View Jupyter <a href='command:jupyter.viewOutput'>log</a> for further details."
     ]
    }
   ],
   "source": [
    "\n",
    "// Callback function to handle the response\n",
    "size_t WriteCallback(char* contents, size_t size, size_t nmemb, std::string* response) {\n",
    "    size_t totalSize = size * nmemb;\n",
    "    response->append(contents, totalSize);\n",
    "    return totalSize;\n",
    "}\n",
    "\n",
    "\n",
    "\n",
    "\n",
    "    // Initialize cURL\n",
    "    curl_global_init(CURL_GLOBAL_DEFAULT);\n",
    "    curl = curl_easy_init();\n",
    "\n",
    "    if (curl) {\n",
    "        // Set the URL to retrieve\n",
    "        curl_easy_setopt(curl, CURLOPT_URL, \"https://api.example.com/data\");\n",
    "\n",
    "        // Set the callback function to handle the response\n",
    "        curl_easy_setopt(curl, CURLOPT_WRITEFUNCTION, WriteCallback);\n",
    "        curl_easy_setopt(curl, CURLOPT_WRITEDATA, &response);\n",
    "\n",
    "        // Perform the request\n",
    "        res = curl_easy_perform(curl);\n",
    "\n",
    "        // Check for errors\n",
    "        if (res != CURLE_OK) {\n",
    "            std::cerr << \"cURL request failed: \" << curl_easy_strerror(res) << std::endl;\n",
    "        } else {\n",
    "            // Print the response\n",
    "            std::cout << \"Response:\\n\" << response << std::endl;\n",
    "        }\n",
    "\n",
    "        // Clean up\n",
    "        curl_easy_cleanup(curl);\n",
    "    }\n",
    "\n",
    "    // Clean up cURL global state\n",
    "    curl_global_cleanup();\n",
    "\n",
    "    return 0;\n",
    "\n"
   ]
  }
 ],
 "metadata": {
  "kernelspec": {
   "display_name": "C++17",
   "language": "C++17",
   "name": "xcpp17"
  },
  "language_info": {
   "codemirror_mode": "text/x-c++src",
   "file_extension": ".cpp",
   "mimetype": "text/x-c++src",
   "name": "c++",
   "version": "17"
  },
  "orig_nbformat": 4
 },
 "nbformat": 4,
 "nbformat_minor": 2
}

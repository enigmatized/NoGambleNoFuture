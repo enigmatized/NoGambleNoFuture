{
 "cells": [
  {
   "cell_type": "code",
   "execution_count": 21,
   "metadata": {},
   "outputs": [],
   "source": [
    "\n",
    "from collections import defaultdict\n",
    "import requests\n",
    "from time import sleep\n",
    "import matplotlib.pyplot as plt\n",
    "import pandas as pd\n",
    "import numpy as np\n",
    "import os\n",
    "from datetime import datetime, timedelta\n",
    "import json\n",
    "from collections import defaultdict\n",
    "import matplotlib.pyplot as plt\n",
    "import pandas as pd\n",
    "import numpy as np\n",
    "import os\n",
    "import re\n",
    "from datetime import datetime, timedelta, time\n"
   ]
  },
  {
   "cell_type": "code",
   "execution_count": 22,
   "metadata": {},
   "outputs": [],
   "source": [
    "def getCandles_fromOanada(currency, count = \"3\", bearerToken = None, accountNum = None):\n",
    "    try:\n",
    "        r = requests.get('https://api-fxtrade.oanda.com/v3/instruments/'+currency +'/candles?count='+ str(count) +'&price=M&granularity=M15',\n",
    "            headers= { 'Content-Type': 'application/json','Authorization': 'Bearer ' + bearerToken}\n",
    "            )\n",
    "        r.raise_for_status()\n",
    "        return (r.json(), True)\n",
    "    except HTTPError as http_err:\n",
    "        print(f'HTTP error occurred: {http_err}')\n",
    "        print(http_err.response.text)\n",
    "    except Exception as err:\n",
    "        print(f'Other error occurred  in function getCandles_fromOanada: {err}')\n",
    "    return (\"\", False)"
   ]
  },
  {
   "cell_type": "code",
   "execution_count": 24,
   "metadata": {},
   "outputs": [],
   "source": [
    "from UpdatePandasDf_currencies_move_together import *"
   ]
  },
  {
   "cell_type": "code",
   "execution_count": 5,
   "metadata": {},
   "outputs": [],
   "source": [
    "(json_ , other)= getCandles_fromOanada(\"EUR_USD\",\n",
    "                    count = \"3\",\n",
    "                    bearerToken = \"b60de6a740653349e34894e1ffcfdbdd-1125145f6c1f07da39bcf8a1fc5d38e9\",\n",
    "                    accountNum =\"001-001-8143822-001\" )"
   ]
  },
  {
   "cell_type": "code",
   "execution_count": 25,
   "metadata": {},
   "outputs": [
    {
     "data": {
      "text/plain": [
       "{'instrument': 'EUR_USD',\n",
       " 'granularity': 'M15',\n",
       " 'candles': [{'complete': True,\n",
       "   'volume': 1807,\n",
       "   'time': '2023-05-23T13:15:00.000000000Z',\n",
       "   'mid': {'o': '1.07684', 'h': '1.07805', 'l': '1.07677', 'c': '1.07763'}},\n",
       "  {'complete': True,\n",
       "   'volume': 1921,\n",
       "   'time': '2023-05-23T13:30:00.000000000Z',\n",
       "   'mid': {'o': '1.07760', 'h': '1.07820', 'l': '1.07737', 'c': '1.07774'}},\n",
       "  {'complete': False,\n",
       "   'volume': 1692,\n",
       "   'time': '2023-05-23T13:45:00.000000000Z',\n",
       "   'mid': {'o': '1.07733', 'h': '1.07838', 'l': '1.07674', 'c': '1.07775'}}]}"
      ]
     },
     "execution_count": 25,
     "metadata": {},
     "output_type": "execute_result"
    }
   ],
   "source": [
    "json_"
   ]
  },
  {
   "cell_type": "code",
   "execution_count": 26,
   "metadata": {},
   "outputs": [
    {
     "ename": "TypeError",
     "evalue": "createPandasDfFromAPI3() takes 1 positional argument but 2 were given",
     "output_type": "error",
     "traceback": [
      "\u001b[0;31m---------------------------------------------------------------------------\u001b[0m",
      "\u001b[0;31mTypeError\u001b[0m                                 Traceback (most recent call last)",
      "Cell \u001b[0;32mIn[26], line 1\u001b[0m\n\u001b[0;32m----> 1\u001b[0m (completePandas, incompleteSomething, is_incomplete) \u001b[39m=\u001b[39m createPandasDfFromAPI3(json_, \u001b[39mTrue\u001b[39;49;00m)\n\u001b[1;32m      3\u001b[0m is_incomplete\n",
      "\u001b[0;31mTypeError\u001b[0m: createPandasDfFromAPI3() takes 1 positional argument but 2 were given"
     ]
    }
   ],
   "source": [
    "(completePandas, incompleteSomething, is_incomplete) = createPandasDfFromAPI3(json_, True)\n",
    "\n",
    "is_incomplete"
   ]
  },
  {
   "cell_type": "code",
   "execution_count": 17,
   "metadata": {},
   "outputs": [
    {
     "data": {
      "text/html": [
       "<div>\n",
       "<style scoped>\n",
       "    .dataframe tbody tr th:only-of-type {\n",
       "        vertical-align: middle;\n",
       "    }\n",
       "\n",
       "    .dataframe tbody tr th {\n",
       "        vertical-align: top;\n",
       "    }\n",
       "\n",
       "    .dataframe thead th {\n",
       "        text-align: right;\n",
       "    }\n",
       "</style>\n",
       "<table border=\"1\" class=\"dataframe\">\n",
       "  <thead>\n",
       "    <tr style=\"text-align: right;\">\n",
       "      <th></th>\n",
       "      <th>close</th>\n",
       "      <th>open</th>\n",
       "      <th>high</th>\n",
       "      <th>low</th>\n",
       "      <th>heikin_ashi_close</th>\n",
       "      <th>volume</th>\n",
       "      <th>time</th>\n",
       "      <th>heikin_ashi_open</th>\n",
       "    </tr>\n",
       "  </thead>\n",
       "  <tbody>\n",
       "    <tr>\n",
       "      <th>2023-05-23 13:30:00</th>\n",
       "      <td>1.07774</td>\n",
       "      <td>1.0776</td>\n",
       "      <td>1.0782</td>\n",
       "      <td>1.07737</td>\n",
       "      <td>1.077727</td>\n",
       "      <td>1921</td>\n",
       "      <td>09:30:00</td>\n",
       "      <td>1.077235</td>\n",
       "    </tr>\n",
       "  </tbody>\n",
       "</table>\n",
       "</div>"
      ],
      "text/plain": [
       "                       close    open    high      low heikin_ashi_close   \n",
       "2023-05-23 13:30:00  1.07774  1.0776  1.0782  1.07737          1.077727  \\\n",
       "\n",
       "                    volume      time heikin_ashi_open  \n",
       "2023-05-23 13:30:00   1921  09:30:00         1.077235  "
      ]
     },
     "execution_count": 17,
     "metadata": {},
     "output_type": "execute_result"
    }
   ],
   "source": [
    "completePandas"
   ]
  }
 ],
 "metadata": {
  "kernelspec": {
   "display_name": "gmoney",
   "language": "python",
   "name": "python3"
  },
  "language_info": {
   "codemirror_mode": {
    "name": "ipython",
    "version": 3
   },
   "file_extension": ".py",
   "mimetype": "text/x-python",
   "name": "python",
   "nbconvert_exporter": "python",
   "pygments_lexer": "ipython3",
   "version": "3.11.3"
  },
  "orig_nbformat": 4
 },
 "nbformat": 4,
 "nbformat_minor": 2
}
